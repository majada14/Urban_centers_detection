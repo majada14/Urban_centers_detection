{
 "cells": [
  {
   "cell_type": "markdown",
   "id": "0839e945",
   "metadata": {},
   "source": [
    "# import the libraries"
   ]
  },
  {
   "cell_type": "code",
   "execution_count": 3,
   "id": "55ccfc3d",
   "metadata": {},
   "outputs": [],
   "source": [
    "import pandas as pd\n",
    "import geoplot as gplt\n",
    "import geopandas as gpd\n",
    "import requests\n",
    "import json"
   ]
  },
  {
   "cell_type": "code",
   "execution_count": 13,
   "id": "1dc5364b",
   "metadata": {},
   "outputs": [],
   "source": [
    "all_data = []\n",
    "overpass_url = \"http://overpass-api.de/api/interpreter\""
   ]
  },
  {
   "cell_type": "code",
   "execution_count": null,
   "id": "b4381d32",
   "metadata": {},
   "outputs": [],
   "source": [
    "#milano_coordinates : 45.46427, 9.18951, suggested_ray: 7500 m\n",
    "#london_coordinates : 51.50853, -0.12574, suggested_ray: 22000 m\n",
    "#trento_coordinates : 46.0678700, 11.1210800, suggested_ray: 7000 m\n",
    "#duomo_coordinates : 46.0669, 11.1215, suggested_ray: 7000 m\n"
   ]
  },
  {
   "cell_type": "markdown",
   "id": "e444ff52",
   "metadata": {},
   "source": [
    "# retrieving data from overpass and overstreetmap"
   ]
  },
  {
   "cell_type": "code",
   "execution_count": 3,
   "id": "c0ecbf72",
   "metadata": {},
   "outputs": [
    {
     "name": "stdout",
     "output_type": "stream",
     "text": [
      "Query 1 passed!\n",
      "nodes with economic function are: 555\n"
     ]
    }
   ],
   "source": [
    "# --- query 1: economic function ---\n",
    "\n",
    "# I retrieve nodes that has an economic function for the city, such as banks, atms, etc...\n",
    "overpass_query1 = \"\"\"\n",
    "[out:json];\n",
    "(node[\"amenity\"~\"atm|bank|payment_centre\"](around:7000, 46.0678700, 11.1210800);\n",
    ");\n",
    "out center;\n",
    "\"\"\"\n",
    "response1 = requests.get(overpass_url, \n",
    "                        params={'data': overpass_query1})\n",
    "economic_data = response1.json()\n",
    "print(\"Query 1 passed!\")\n",
    "\n",
    "i = 0\n",
    "for el in economic_data['elements']:\n",
    "    if 'name' in list(el['tags'].keys()):\n",
    "        current_el = {}\n",
    "        current_el['id'] = el['id']\n",
    "        current_el['lat'] = el['lat']\n",
    "        current_el['lon']= el['lon']\n",
    "        current_el['name'] = el['tags']['name']\n",
    "        current_el['class'] = 'economic'\n",
    "        all_data.append(current_el)\n",
    "        i+=1\n",
    "        \n",
    "print(\"nodes with economic function are:\", i)"
   ]
  },
  {
   "cell_type": "code",
   "execution_count": 4,
   "id": "5b65595d",
   "metadata": {},
   "outputs": [
    {
     "name": "stdout",
     "output_type": "stream",
     "text": [
      "Query 2 passed!\n",
      "nodes with education function are: 752\n"
     ]
    }
   ],
   "source": [
    "# --- query 2: education function ---\n",
    "# I retrieve nodes that has an educational function for the city, such as school, universities, etc...\n",
    "overpass_query2 = \"\"\"\n",
    "[out:json];\n",
    "(node[\"amenity\"~\"kindergarten|school|college|university|library\"](around:7000, 46.0678700, 11.1210800);\n",
    ");\n",
    "out center;\n",
    "\"\"\"\n",
    "response2 = requests.get(overpass_url, \n",
    "                        params={'data': overpass_query2})\n",
    "education_data = response2.json()\n",
    "print(\"Query 2 passed!\")\n",
    "\n",
    "i = 0\n",
    "for el in education_data['elements']:\n",
    "    if 'name' in list(el['tags'].keys()):\n",
    "        current_el = {}\n",
    "        current_el['id'] = el['id']\n",
    "        current_el['lat'] = el['lat']\n",
    "        current_el['lon']= el['lon']\n",
    "        current_el['name'] = el['tags']['name']\n",
    "        current_el['class'] = 'education'\n",
    "        all_data.append(current_el)\n",
    "        i+=1\n",
    "        \n",
    "print(\"nodes with education function are:\", i)"
   ]
  },
  {
   "cell_type": "code",
   "execution_count": 5,
   "id": "10e3007d",
   "metadata": {},
   "outputs": [
    {
     "name": "stdout",
     "output_type": "stream",
     "text": [
      "Query 3 passed!\n",
      "nodes with transportation function are: 734\n"
     ]
    }
   ],
   "source": [
    "# --- query 3: transportation function ---\n",
    "# I retrieve nodes that has a transportation function for the city, such as bus stations, parking lot, etc...\n",
    "overpass_query3 = \"\"\"\n",
    "[out:json];\n",
    "(node[\"amenity\"=\"parking\"](around:7000, 51.46.0678700, 11.1210800);\n",
    "node[\"public_transport\"=\"station\"](around:7000, 46.0678700, 11.1210800);\n",
    ");\n",
    "out center;\n",
    "\"\"\"\n",
    "response3 = requests.get(overpass_url, \n",
    "                        params={'data': overpass_query3})\n",
    "transportation_data = response3.json()\n",
    "print(\"Query 3 passed!\")\n",
    "\n",
    "i = 0\n",
    "for el in transportation_data['elements']:\n",
    "    if 'name' in list(el['tags'].keys()):\n",
    "        current_el = {}\n",
    "        current_el['id'] = el['id']\n",
    "        current_el['lat'] = el['lat']\n",
    "        current_el['lon']= el['lon']\n",
    "        current_el['name'] = el['tags']['name']\n",
    "        current_el['class'] = 'transportation'\n",
    "        all_data.append(current_el)\n",
    "        i+=1\n",
    "        \n",
    "print(\"nodes with transportation function are:\", i)"
   ]
  },
  {
   "cell_type": "code",
   "execution_count": 6,
   "id": "10358574",
   "metadata": {},
   "outputs": [
    {
     "name": "stdout",
     "output_type": "stream",
     "text": [
      "Query 4 passed!\n",
      "nodes with cultural function are: 234\n"
     ]
    }
   ],
   "source": [
    "# --- query 4: cultural function ---\n",
    "# I retrieve nodes that has a cultural finction, such as museums, art exhibitions, cinemas, theaters etc...\n",
    "overpass_query4 = \"\"\"\n",
    "[out:json];\n",
    "(node[\"historic\"~\"castle|archaeological_site\"](around:7000, 46.0678700, 11.1210800);\n",
    "node[\"museum\"~\"nature|art|history|technology\"](around:7000, 46.0678700, 11.1210800);\n",
    "node[\"amenity\"~\"arts_centre|library\"](around:7000, 46.0678700, 11.1210800);\n",
    ");\n",
    "out center;\n",
    "\"\"\"\n",
    "response4 = requests.get(overpass_url, \n",
    "                        params={'data': overpass_query4})\n",
    "cultural_data = response4.json()\n",
    "print(\"Query 4 passed!\")\n",
    "\n",
    "i = 0\n",
    "for el in cultural_data['elements']:\n",
    "    if 'name' in list(el['tags'].keys()):\n",
    "        current_el = {}\n",
    "        current_el['id'] = el['id']\n",
    "        current_el['lat'] = el['lat']\n",
    "        current_el['lon']= el['lon']\n",
    "        current_el['name'] = el['tags']['name']\n",
    "        current_el['class'] = 'culture'\n",
    "        all_data.append(current_el)\n",
    "        i+=1\n",
    "        \n",
    "print(\"nodes with cultural function are:\", i)"
   ]
  },
  {
   "cell_type": "code",
   "execution_count": 7,
   "id": "81095a70",
   "metadata": {},
   "outputs": [
    {
     "name": "stdout",
     "output_type": "stream",
     "text": [
      "Query 5 passed!\n",
      "nodes with health function are: 990\n"
     ]
    }
   ],
   "source": [
    "# --- query 5: health function ---\n",
    "# I retrieve nodes that serve in the health sector, such as hospitals, etc...\n",
    "overpass_query5 = \"\"\"\n",
    "[out:json];\n",
    "(node[\"amenity\"~\"hospitals|clinic|pharmacy\"](around:7000, 46.0678700, 11.1210800);\n",
    ");\n",
    "out center;\n",
    "\"\"\"\n",
    "response5 = requests.get(overpass_url, \n",
    "                        params={'data': overpass_query5})\n",
    "health_data = response5.json()\n",
    "print(\"Query 5 passed!\")\n",
    "\n",
    "i = 0\n",
    "for el in health_data['elements']:\n",
    "    if 'name' in list(el['tags'].keys()):\n",
    "        current_el = {}\n",
    "        current_el['id'] = el['id']\n",
    "        current_el['lat'] = el['lat']\n",
    "        current_el['lon']= el['lon']\n",
    "        current_el['name'] = el['tags']['name']\n",
    "        current_el['class'] = 'health'\n",
    "        all_data.append(current_el)\n",
    "        i+=1\n",
    "        \n",
    "print(\"nodes with health function are:\", i)"
   ]
  },
  {
   "cell_type": "code",
   "execution_count": 8,
   "id": "52a41f0d",
   "metadata": {},
   "outputs": [
    {
     "name": "stdout",
     "output_type": "stream",
     "text": [
      "Query 6 passed!\n",
      "nodes with leisure function are: 612\n"
     ]
    }
   ],
   "source": [
    "# --- query 6: leisure function ---\n",
    "# I retrieve nodes that serve in the leisure/free-time sector, such as parks, cinema, etc...\n",
    "overpass_query6 = \"\"\"\n",
    "[out:json];\n",
    "(node[\"amenity\"~\"theatre|cinema|gym|park|nightclub\"](around:7000, 46.0678700, 11.1210800);\n",
    ");\n",
    "out center;\n",
    "\"\"\"\n",
    "response6 = requests.get(overpass_url, \n",
    "                        params={'data': overpass_query6})\n",
    "leisure_data = response6.json()\n",
    "print(\"Query 6 passed!\")\n",
    "\n",
    "i = 0\n",
    "for el in leisure_data['elements']:\n",
    "    if 'name' in list(el['tags'].keys()):\n",
    "        current_el = {}\n",
    "        current_el['id'] = el['id']\n",
    "        current_el['lat'] = el['lat']\n",
    "        current_el['lon']= el['lon']\n",
    "        current_el['name'] = el['tags']['name']\n",
    "        current_el['class'] = 'leisure'\n",
    "        all_data.append(current_el)\n",
    "        i+=1\n",
    "        \n",
    "print(\"nodes with leisure function are:\", i)"
   ]
  },
  {
   "cell_type": "code",
   "execution_count": 9,
   "id": "61e83135",
   "metadata": {},
   "outputs": [
    {
     "name": "stdout",
     "output_type": "stream",
     "text": [
      "Query 7 passed!\n",
      "nodes with catering function are: 9519\n"
     ]
    }
   ],
   "source": [
    "# --- query 7: catering function ---\n",
    "# I retrieve nodes that serve in the catering function, such as restaurants, bars, etc...\n",
    "overpass_query7 = \"\"\"\n",
    "[out:json];\n",
    "(node[\"amenity\"~\"restaurant|bar|cafe|canteen\"](around:7000, 46.0678700, 11.1210800);\n",
    ");\n",
    "out center;\n",
    "\"\"\"\n",
    "response7 = requests.get(overpass_url, \n",
    "                        params={'data': overpass_query7})\n",
    "catering_data = response7.json()\n",
    "print(\"Query 7 passed!\")\n",
    "\n",
    "i = 0\n",
    "for el in catering_data['elements']:\n",
    "    if 'name' in list(el['tags'].keys()):\n",
    "        current_el = {}\n",
    "        current_el['id'] = el['id']\n",
    "        current_el['lat'] = el['lat']\n",
    "        current_el['lon']= el['lon']\n",
    "        current_el['name'] = el['tags']['name']\n",
    "        current_el['class'] = 'catering'\n",
    "        all_data.append(current_el)\n",
    "        i+=1\n",
    "        \n",
    "print(\"nodes with catering function are:\", i)"
   ]
  },
  {
   "cell_type": "code",
   "execution_count": 10,
   "id": "11f3be53",
   "metadata": {},
   "outputs": [
    {
     "name": "stdout",
     "output_type": "stream",
     "text": [
      "Query 8 passed!\n",
      "nodes with shopping function are: 636\n"
     ]
    }
   ],
   "source": [
    "# --- query 8: shopping function ---\n",
    "# I retrieve nodes that serve in the religion function, such as churches, etc...\n",
    "overpass_query8 = \"\"\"\n",
    "[out:json];\n",
    "(node[\"shop\"~\"general|mall|supermarket\"](around:7000, 46.0678700, 11.1210800);\n",
    ");\n",
    "out center;\n",
    "\"\"\"\n",
    "response8 = requests.get(overpass_url, \n",
    "                        params={'data': overpass_query8})\n",
    "shopping_data = response8.json()\n",
    "print(\"Query 8 passed!\")\n",
    "\n",
    "i = 0\n",
    "for el in shopping_data['elements']:\n",
    "    if 'name' in list(el['tags'].keys()):\n",
    "        current_el = {}\n",
    "        current_el['id'] = el['id']\n",
    "        current_el['lat'] = el['lat']\n",
    "        current_el['lon']= el['lon']\n",
    "        current_el['name'] = el['tags']['name']\n",
    "        current_el['class'] = 'shopping'\n",
    "        all_data.append(current_el)\n",
    "        i+=1\n",
    "        \n",
    "print(\"nodes with shopping function are:\", i)"
   ]
  },
  {
   "cell_type": "code",
   "execution_count": 11,
   "id": "4d1ed873",
   "metadata": {},
   "outputs": [],
   "source": [
    "# now we save the data in order to skip the retrieval steps every time \n",
    "with open('/Users/majadallacqua/Desktop/università/II_sem/CSS/urban analysis/data/londra_poi_dataset.json', 'w') as f:\n",
    "    json.dump(all_data , f)"
   ]
  },
  {
   "cell_type": "markdown",
   "id": "475c1fdf",
   "metadata": {},
   "source": [
    "# prova con meno categories"
   ]
  },
  {
   "cell_type": "code",
   "execution_count": 14,
   "id": "18eb9cff",
   "metadata": {},
   "outputs": [
    {
     "name": "stdout",
     "output_type": "stream",
     "text": [
      "Query 1 passed!\n",
      "nodes with economic function are: 63\n"
     ]
    }
   ],
   "source": [
    "# --- query 1: economic function ---\n",
    "\n",
    "# I retrieve nodes that has an economic function for the city, such as banks, atms, etc...\n",
    "overpass_query1 = \"\"\"\n",
    "[out:json];\n",
    "(node[\"amenity\"=\"bank\"](around:7000, 46.0669, 11.1215);\n",
    ");\n",
    "out center;\n",
    "\"\"\"\n",
    "response1 = requests.get(overpass_url, \n",
    "                        params={'data': overpass_query1})\n",
    "economic_data = response1.json()\n",
    "print(\"Query 1 passed!\")\n",
    "\n",
    "i = 0\n",
    "for el in economic_data['elements']:\n",
    "    if 'name' in list(el['tags'].keys()):\n",
    "        current_el = {}\n",
    "        current_el['id'] = el['id']\n",
    "        current_el['lat'] = el['lat']\n",
    "        current_el['lon']= el['lon']\n",
    "        current_el['name'] = el['tags']['name']\n",
    "        current_el['class'] = 'economic'\n",
    "        all_data.append(current_el)\n",
    "        i+=1\n",
    "        \n",
    "print(\"nodes with economic function are:\", i)"
   ]
  },
  {
   "cell_type": "code",
   "execution_count": 15,
   "id": "b9c961dc",
   "metadata": {},
   "outputs": [
    {
     "name": "stdout",
     "output_type": "stream",
     "text": [
      "Query 2 passed!\n",
      "nodes with education function are: 58\n"
     ]
    }
   ],
   "source": [
    "# --- query 2: education function ---\n",
    "# I retrieve nodes that has an educational function for the city, such as school, universities, etc...\n",
    "overpass_query2 = \"\"\"\n",
    "[out:json];\n",
    "(node[\"amenity\"~\"kindergarten|school|college|university|library\"](around:7000, 46.0669, 11.1215);\n",
    ");\n",
    "out center;\n",
    "\"\"\"\n",
    "response2 = requests.get(overpass_url, \n",
    "                        params={'data': overpass_query2})\n",
    "education_data = response2.json()\n",
    "print(\"Query 2 passed!\")\n",
    "\n",
    "i = 0\n",
    "for el in education_data['elements']:\n",
    "    if 'name' in list(el['tags'].keys()):\n",
    "        current_el = {}\n",
    "        current_el['id'] = el['id']\n",
    "        current_el['lat'] = el['lat']\n",
    "        current_el['lon']= el['lon']\n",
    "        current_el['name'] = el['tags']['name']\n",
    "        current_el['class'] = 'education'\n",
    "        all_data.append(current_el)\n",
    "        i+=1\n",
    "        \n",
    "print(\"nodes with education function are:\", i)"
   ]
  },
  {
   "cell_type": "code",
   "execution_count": 16,
   "id": "40f67482",
   "metadata": {},
   "outputs": [
    {
     "name": "stdout",
     "output_type": "stream",
     "text": [
      "Query 5 passed!\n",
      "nodes with health function are: 35\n"
     ]
    }
   ],
   "source": [
    "# --- query 3: health function ---\n",
    "# I retrieve nodes that serve in the health sector, such as hospitals, etc...\n",
    "overpass_query5 = \"\"\"\n",
    "[out:json];\n",
    "(node[\"amenity\"~\"hospitals|pharmacy\"](around:7000, 46.0669, 11.1215);\n",
    ");\n",
    "out center;\n",
    "\"\"\"\n",
    "response5 = requests.get(overpass_url, \n",
    "                        params={'data': overpass_query5})\n",
    "health_data = response5.json()\n",
    "print(\"Query 5 passed!\")\n",
    "\n",
    "i = 0\n",
    "for el in health_data['elements']:\n",
    "    if 'name' in list(el['tags'].keys()):\n",
    "        current_el = {}\n",
    "        current_el['id'] = el['id']\n",
    "        current_el['lat'] = el['lat']\n",
    "        current_el['lon']= el['lon']\n",
    "        current_el['name'] = el['tags']['name']\n",
    "        current_el['class'] = 'health'\n",
    "        all_data.append(current_el)\n",
    "        i+=1\n",
    "        \n",
    "print(\"nodes with health function are:\", i)"
   ]
  },
  {
   "cell_type": "code",
   "execution_count": 9,
   "id": "2bff4665",
   "metadata": {},
   "outputs": [
    {
     "name": "stdout",
     "output_type": "stream",
     "text": [
      "Query 4 passed!\n",
      "nodes with tourism function are: 57\n"
     ]
    }
   ],
   "source": [
    "# --- query 4: tourism function ---\n",
    "# I retrieve nodes that has a cultural finction, such as museums, art exhibitions, cinemas, theaters etc...\n",
    "overpass_query4 = \"\"\"\n",
    "[out:json];\n",
    "(node[\"historic\"~\"castle|archaeological_site\"](around:7000, 46.0678700, 11.1210800);\n",
    "node[\"museum\"~\"nature|art|history|technology\"](around:7000, 46.0678700, 11.1210800);\n",
    "node[\"amenity\"~\"arts_centre|theatre|cinema|park|nightclub\"](around:7000, 46.0678700, 11.1210800);\n",
    ");\n",
    "out center;\n",
    "\"\"\"\n",
    "response4 = requests.get(overpass_url, \n",
    "                        params={'data': overpass_query4})\n",
    "cultural_data = response4.json()\n",
    "print(\"Query 4 passed!\")\n",
    "\n",
    "i = 0\n",
    "for el in cultural_data['elements']:\n",
    "    if 'name' in list(el['tags'].keys()):\n",
    "        current_el = {}\n",
    "        current_el['id'] = el['id']\n",
    "        current_el['lat'] = el['lat']\n",
    "        current_el['lon']= el['lon']\n",
    "        current_el['name'] = el['tags']['name']\n",
    "        current_el['class'] = 'tourism'\n",
    "        all_data.append(current_el)\n",
    "        i+=1\n",
    "        \n",
    "print(\"nodes with tourism function are:\", i)"
   ]
  },
  {
   "cell_type": "code",
   "execution_count": 10,
   "id": "0a0b5478",
   "metadata": {},
   "outputs": [
    {
     "name": "stdout",
     "output_type": "stream",
     "text": [
      "Query 7 passed!\n",
      "nodes with catering function are: 400\n"
     ]
    }
   ],
   "source": [
    "# --- query 5: catering function ---\n",
    "# I retrieve nodes that serve in the catering function, such as restaurants, bars, etc...\n",
    "overpass_query7 = \"\"\"\n",
    "[out:json];\n",
    "(node[\"amenity\"~\"restaurant|bar|cafe|canteen\"](around:7000, 46.0678700, 11.1210800);\n",
    ");\n",
    "out center;\n",
    "\"\"\"\n",
    "response7 = requests.get(overpass_url, \n",
    "                        params={'data': overpass_query7})\n",
    "catering_data = response7.json()\n",
    "print(\"Query 7 passed!\")\n",
    "\n",
    "i = 0\n",
    "for el in catering_data['elements']:\n",
    "    if 'name' in list(el['tags'].keys()):\n",
    "        current_el = {}\n",
    "        current_el['id'] = el['id']\n",
    "        current_el['lat'] = el['lat']\n",
    "        current_el['lon']= el['lon']\n",
    "        current_el['name'] = el['tags']['name']\n",
    "        current_el['class'] = 'catering'\n",
    "        all_data.append(current_el)\n",
    "        i+=1\n",
    "        \n",
    "print(\"nodes with catering function are:\", i)"
   ]
  },
  {
   "cell_type": "code",
   "execution_count": 11,
   "id": "a0d1c055",
   "metadata": {},
   "outputs": [
    {
     "name": "stdout",
     "output_type": "stream",
     "text": [
      "Query 8 passed!\n",
      "nodes with shopping function are: 46\n"
     ]
    }
   ],
   "source": [
    "# --- query 6: shopping function ---\n",
    "# I retrieve nodes that serve in the religion function, such as churches, etc...\n",
    "overpass_query8 = \"\"\"\n",
    "[out:json];\n",
    "(node[\"shop\"~\"general|mall|supermarket\"](around:7000, 46.0678700, 11.1210800);\n",
    ");\n",
    "out center;\n",
    "\"\"\"\n",
    "response8 = requests.get(overpass_url, \n",
    "                        params={'data': overpass_query8})\n",
    "shopping_data = response8.json()\n",
    "print(\"Query 8 passed!\")\n",
    "\n",
    "i = 0\n",
    "for el in shopping_data['elements']:\n",
    "    if 'name' in list(el['tags'].keys()):\n",
    "        current_el = {}\n",
    "        current_el['id'] = el['id']\n",
    "        current_el['lat'] = el['lat']\n",
    "        current_el['lon']= el['lon']\n",
    "        current_el['name'] = el['tags']['name']\n",
    "        current_el['class'] = 'shopping'\n",
    "        all_data.append(current_el)\n",
    "        i+=1\n",
    "        \n",
    "print(\"nodes with shopping function are:\", i)"
   ]
  },
  {
   "cell_type": "code",
   "execution_count": 12,
   "id": "ffefd718",
   "metadata": {},
   "outputs": [],
   "source": [
    "# now we save the data in order to skip the retrieval steps every time \n",
    "with open('/Users/majadallacqua/Desktop/università/II_sem/CSS/urban analysis/data/trento_poi_dataset.json', 'w') as f:\n",
    "    json.dump(all_data , f)"
   ]
  },
  {
   "cell_type": "code",
   "execution_count": null,
   "id": "ba1e2c82",
   "metadata": {},
   "outputs": [],
   "source": []
  }
 ],
 "metadata": {
  "kernelspec": {
   "display_name": "Python 3 (ipykernel)",
   "language": "python",
   "name": "python3"
  },
  "language_info": {
   "codemirror_mode": {
    "name": "ipython",
    "version": 3
   },
   "file_extension": ".py",
   "mimetype": "text/x-python",
   "name": "python",
   "nbconvert_exporter": "python",
   "pygments_lexer": "ipython3",
   "version": "3.9.7"
  },
  "toc": {
   "base_numbering": 1,
   "nav_menu": {},
   "number_sections": true,
   "sideBar": true,
   "skip_h1_title": false,
   "title_cell": "Table of Contents",
   "title_sidebar": "Contents",
   "toc_cell": false,
   "toc_position": {},
   "toc_section_display": true,
   "toc_window_display": false
  }
 },
 "nbformat": 4,
 "nbformat_minor": 5
}
